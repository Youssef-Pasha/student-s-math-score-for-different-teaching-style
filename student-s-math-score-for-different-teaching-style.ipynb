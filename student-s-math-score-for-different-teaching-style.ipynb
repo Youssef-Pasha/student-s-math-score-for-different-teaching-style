{
 "cells": [
  {
   "cell_type": "markdown",
   "id": "aa803fe7",
   "metadata": {
    "papermill": {
     "duration": 0.038156,
     "end_time": "2022-04-23T22:07:50.061574",
     "exception": false,
     "start_time": "2022-04-23T22:07:50.023418",
     "status": "completed"
    },
    "tags": []
   },
   "source": [
    "# **Import Libraries**"
   ]
  },
  {
   "cell_type": "code",
   "execution_count": 1,
   "id": "cfdf6534",
   "metadata": {
    "execution": {
     "iopub.execute_input": "2022-04-23T22:07:50.138250Z",
     "iopub.status.busy": "2022-04-23T22:07:50.137705Z",
     "iopub.status.idle": "2022-04-23T22:07:51.315955Z",
     "shell.execute_reply": "2022-04-23T22:07:51.314979Z"
    },
    "papermill": {
     "duration": 1.219252,
     "end_time": "2022-04-23T22:07:51.318532",
     "exception": false,
     "start_time": "2022-04-23T22:07:50.099280",
     "status": "completed"
    },
    "tags": []
   },
   "outputs": [],
   "source": [
    "import numpy as np\n",
    "import pandas as pd\n",
    "import matplotlib.pyplot as plt\n",
    "import seaborn as sns"
   ]
  },
  {
   "cell_type": "code",
   "execution_count": 2,
   "id": "76af6746",
   "metadata": {
    "execution": {
     "iopub.execute_input": "2022-04-23T22:07:51.394809Z",
     "iopub.status.busy": "2022-04-23T22:07:51.394272Z",
     "iopub.status.idle": "2022-04-23T22:08:04.756534Z",
     "shell.execute_reply": "2022-04-23T22:08:04.755512Z"
    },
    "papermill": {
     "duration": 13.403321,
     "end_time": "2022-04-23T22:08:04.759522",
     "exception": false,
     "start_time": "2022-04-23T22:07:51.356201",
     "status": "completed"
    },
    "tags": []
   },
   "outputs": [
    {
     "name": "stdout",
     "output_type": "stream",
     "text": [
      "Collecting pyreadstat\r\n",
      "  Downloading pyreadstat-1.1.4-cp37-cp37m-manylinux_2_17_x86_64.manylinux2014_x86_64.whl (2.4 MB)\r\n",
      "\u001b[2K     \u001b[90m━━━━━━━━━━━━━━━━━━━━━━━━━━━━━━━━━━━━━━━━\u001b[0m \u001b[32m2.4/2.4 MB\u001b[0m \u001b[31m6.7 MB/s\u001b[0m eta \u001b[36m0:00:00\u001b[0m\r\n",
      "\u001b[?25hRequirement already satisfied: pandas>=1.2.0 in /opt/conda/lib/python3.7/site-packages (from pyreadstat) (1.3.5)\r\n",
      "Requirement already satisfied: python-dateutil>=2.7.3 in /opt/conda/lib/python3.7/site-packages (from pandas>=1.2.0->pyreadstat) (2.8.2)\r\n",
      "Requirement already satisfied: pytz>=2017.3 in /opt/conda/lib/python3.7/site-packages (from pandas>=1.2.0->pyreadstat) (2021.3)\r\n",
      "Requirement already satisfied: numpy>=1.17.3 in /opt/conda/lib/python3.7/site-packages (from pandas>=1.2.0->pyreadstat) (1.21.5)\r\n",
      "Requirement already satisfied: six>=1.5 in /opt/conda/lib/python3.7/site-packages (from python-dateutil>=2.7.3->pandas>=1.2.0->pyreadstat) (1.16.0)\r\n",
      "Installing collected packages: pyreadstat\r\n",
      "Successfully installed pyreadstat-1.1.4\r\n",
      "\u001b[33mWARNING: Running pip as the 'root' user can result in broken permissions and conflicting behaviour with the system package manager. It is recommended to use a virtual environment instead: https://pip.pypa.io/warnings/venv\u001b[0m\u001b[33m\r\n",
      "\u001b[0m"
     ]
    }
   ],
   "source": [
    "# install pyreadstat\n",
    "!pip install pyreadstat"
   ]
  },
  {
   "cell_type": "markdown",
   "id": "d7a29768",
   "metadata": {
    "papermill": {
     "duration": 0.045999,
     "end_time": "2022-04-23T22:08:04.854724",
     "exception": false,
     "start_time": "2022-04-23T22:08:04.808725",
     "status": "completed"
    },
    "tags": []
   },
   "source": [
    "# **Data Wrangling**"
   ]
  },
  {
   "cell_type": "markdown",
   "id": "217ad3bd",
   "metadata": {
    "papermill": {
     "duration": 0.041591,
     "end_time": "2022-04-23T22:08:04.938842",
     "exception": false,
     "start_time": "2022-04-23T22:08:04.897251",
     "status": "completed"
    },
    "tags": []
   },
   "source": [
    "## load data"
   ]
  },
  {
   "cell_type": "code",
   "execution_count": 3,
   "id": "b1ad1cbc",
   "metadata": {
    "execution": {
     "iopub.execute_input": "2022-04-23T22:08:05.026794Z",
     "iopub.status.busy": "2022-04-23T22:08:05.026116Z",
     "iopub.status.idle": "2022-04-23T22:08:05.072441Z",
     "shell.execute_reply": "2022-04-23T22:08:05.071476Z"
    },
    "papermill": {
     "duration": 0.093903,
     "end_time": "2022-04-23T22:08:05.075117",
     "exception": false,
     "start_time": "2022-04-23T22:08:04.981214",
     "status": "completed"
    },
    "tags": []
   },
   "outputs": [],
   "source": [
    "# read sav file\n",
    "df = pd.read_spss(\"../input/students-math-score-for-different-teaching-style/1ResearchProjectData.sav\")"
   ]
  },
  {
   "cell_type": "code",
   "execution_count": 4,
   "id": "707fc8ed",
   "metadata": {
    "execution": {
     "iopub.execute_input": "2022-04-23T22:08:05.164839Z",
     "iopub.status.busy": "2022-04-23T22:08:05.164519Z",
     "iopub.status.idle": "2022-04-23T22:08:05.192030Z",
     "shell.execute_reply": "2022-04-23T22:08:05.191372Z"
    },
    "papermill": {
     "duration": 0.077064,
     "end_time": "2022-04-23T22:08:05.195477",
     "exception": false,
     "start_time": "2022-04-23T22:08:05.118413",
     "status": "completed"
    },
    "tags": []
   },
   "outputs": [
    {
     "data": {
      "text/html": [
       "<div>\n",
       "<style scoped>\n",
       "    .dataframe tbody tr th:only-of-type {\n",
       "        vertical-align: middle;\n",
       "    }\n",
       "\n",
       "    .dataframe tbody tr th {\n",
       "        vertical-align: top;\n",
       "    }\n",
       "\n",
       "    .dataframe thead th {\n",
       "        text-align: right;\n",
       "    }\n",
       "</style>\n",
       "<table border=\"1\" class=\"dataframe\">\n",
       "  <thead>\n",
       "    <tr style=\"text-align: right;\">\n",
       "      <th></th>\n",
       "      <th>Student</th>\n",
       "      <th>Teacher</th>\n",
       "      <th>Gender</th>\n",
       "      <th>Ethnic</th>\n",
       "      <th>Freeredu</th>\n",
       "      <th>Score</th>\n",
       "      <th>wesson</th>\n",
       "    </tr>\n",
       "  </thead>\n",
       "  <tbody>\n",
       "    <tr>\n",
       "      <th>19</th>\n",
       "      <td>20.0</td>\n",
       "      <td>Ruger</td>\n",
       "      <td>Male</td>\n",
       "      <td>Asian</td>\n",
       "      <td>Paid lunch</td>\n",
       "      <td>34.0</td>\n",
       "      <td>Ruger_Smith</td>\n",
       "    </tr>\n",
       "    <tr>\n",
       "      <th>92</th>\n",
       "      <td>93.0</td>\n",
       "      <td>Smith</td>\n",
       "      <td>Female</td>\n",
       "      <td>Caucasian</td>\n",
       "      <td>Paid lunch</td>\n",
       "      <td>79.0</td>\n",
       "      <td>Ruger_Smith</td>\n",
       "    </tr>\n",
       "    <tr>\n",
       "      <th>24</th>\n",
       "      <td>25.0</td>\n",
       "      <td>Ruger</td>\n",
       "      <td>Male</td>\n",
       "      <td>Asian</td>\n",
       "      <td>Free lunch</td>\n",
       "      <td>39.0</td>\n",
       "      <td>Ruger_Smith</td>\n",
       "    </tr>\n",
       "    <tr>\n",
       "      <th>107</th>\n",
       "      <td>108.0</td>\n",
       "      <td>Smith</td>\n",
       "      <td>Female</td>\n",
       "      <td>Hispanic</td>\n",
       "      <td>Free lunch</td>\n",
       "      <td>69.0</td>\n",
       "      <td>Ruger_Smith</td>\n",
       "    </tr>\n",
       "    <tr>\n",
       "      <th>152</th>\n",
       "      <td>153.0</td>\n",
       "      <td>Wesson</td>\n",
       "      <td>Female</td>\n",
       "      <td>Caucasian</td>\n",
       "      <td>Free lunch</td>\n",
       "      <td>61.0</td>\n",
       "      <td>Wesson</td>\n",
       "    </tr>\n",
       "  </tbody>\n",
       "</table>\n",
       "</div>"
      ],
      "text/plain": [
       "     Student Teacher  Gender     Ethnic    Freeredu  Score       wesson\n",
       "19      20.0   Ruger    Male      Asian  Paid lunch   34.0  Ruger_Smith\n",
       "92      93.0   Smith  Female  Caucasian  Paid lunch   79.0  Ruger_Smith\n",
       "24      25.0   Ruger    Male      Asian  Free lunch   39.0  Ruger_Smith\n",
       "107    108.0   Smith  Female   Hispanic  Free lunch   69.0  Ruger_Smith\n",
       "152    153.0  Wesson  Female  Caucasian  Free lunch   61.0       Wesson"
      ]
     },
     "execution_count": 4,
     "metadata": {},
     "output_type": "execute_result"
    }
   ],
   "source": [
    "# view random sample from data\n",
    "df.sample(5)"
   ]
  },
  {
   "cell_type": "code",
   "execution_count": 5,
   "id": "acbd9a8d",
   "metadata": {
    "execution": {
     "iopub.execute_input": "2022-04-23T22:08:05.287975Z",
     "iopub.status.busy": "2022-04-23T22:08:05.287330Z",
     "iopub.status.idle": "2022-04-23T22:08:05.310068Z",
     "shell.execute_reply": "2022-04-23T22:08:05.309483Z"
    },
    "papermill": {
     "duration": 0.070253,
     "end_time": "2022-04-23T22:08:05.313393",
     "exception": false,
     "start_time": "2022-04-23T22:08:05.243140",
     "status": "completed"
    },
    "tags": []
   },
   "outputs": [
    {
     "name": "stdout",
     "output_type": "stream",
     "text": [
      "<class 'pandas.core.frame.DataFrame'>\n",
      "RangeIndex: 217 entries, 0 to 216\n",
      "Data columns (total 7 columns):\n",
      " #   Column    Non-Null Count  Dtype   \n",
      "---  ------    --------------  -----   \n",
      " 0   Student   216 non-null    float64 \n",
      " 1   Teacher   216 non-null    category\n",
      " 2   Gender    216 non-null    category\n",
      " 3   Ethnic    216 non-null    category\n",
      " 4   Freeredu  216 non-null    category\n",
      " 5   Score     216 non-null    float64 \n",
      " 6   wesson    217 non-null    category\n",
      "dtypes: category(5), float64(2)\n",
      "memory usage: 5.3 KB\n"
     ]
    }
   ],
   "source": [
    "# some information about the data\n",
    "# total 7 columns\n",
    "# total 217 rows\n",
    "# null value exist\n",
    "# Inappropriate data types \n",
    "df.info()"
   ]
  },
  {
   "cell_type": "markdown",
   "id": "c175d2f0",
   "metadata": {
    "papermill": {
     "duration": 0.042087,
     "end_time": "2022-04-23T22:08:05.408069",
     "exception": false,
     "start_time": "2022-04-23T22:08:05.365982",
     "status": "completed"
    },
    "tags": []
   },
   "source": [
    "## data cleaning"
   ]
  },
  {
   "cell_type": "code",
   "execution_count": 6,
   "id": "673bb532",
   "metadata": {
    "execution": {
     "iopub.execute_input": "2022-04-23T22:08:05.494761Z",
     "iopub.status.busy": "2022-04-23T22:08:05.494146Z",
     "iopub.status.idle": "2022-04-23T22:08:05.501718Z",
     "shell.execute_reply": "2022-04-23T22:08:05.500899Z"
    },
    "papermill": {
     "duration": 0.053201,
     "end_time": "2022-04-23T22:08:05.503610",
     "exception": false,
     "start_time": "2022-04-23T22:08:05.450409",
     "status": "completed"
    },
    "tags": []
   },
   "outputs": [
    {
     "data": {
      "text/plain": [
       "6"
      ]
     },
     "execution_count": 6,
     "metadata": {},
     "output_type": "execute_result"
    }
   ],
   "source": [
    "# clean missing values\n",
    "\n",
    "# number of missing values\n",
    "df.isnull().sum().sum()"
   ]
  },
  {
   "cell_type": "code",
   "execution_count": 7,
   "id": "38d3f945",
   "metadata": {
    "execution": {
     "iopub.execute_input": "2022-04-23T22:08:05.591738Z",
     "iopub.status.busy": "2022-04-23T22:08:05.591253Z",
     "iopub.status.idle": "2022-04-23T22:08:05.600385Z",
     "shell.execute_reply": "2022-04-23T22:08:05.599766Z"
    },
    "papermill": {
     "duration": 0.055521,
     "end_time": "2022-04-23T22:08:05.602195",
     "exception": false,
     "start_time": "2022-04-23T22:08:05.546674",
     "status": "completed"
    },
    "tags": []
   },
   "outputs": [
    {
     "data": {
      "text/plain": [
       "0"
      ]
     },
     "execution_count": 7,
     "metadata": {},
     "output_type": "execute_result"
    }
   ],
   "source": [
    "# The number of missing data is very small so it is appropriate to delete it\n",
    "# check missing again\n",
    "df.dropna(inplace=True)\n",
    "df.isnull().sum().sum()"
   ]
  },
  {
   "cell_type": "code",
   "execution_count": 8,
   "id": "643c4c2e",
   "metadata": {
    "execution": {
     "iopub.execute_input": "2022-04-23T22:08:05.689279Z",
     "iopub.status.busy": "2022-04-23T22:08:05.688969Z",
     "iopub.status.idle": "2022-04-23T22:08:05.700095Z",
     "shell.execute_reply": "2022-04-23T22:08:05.699255Z"
    },
    "papermill": {
     "duration": 0.056953,
     "end_time": "2022-04-23T22:08:05.702065",
     "exception": false,
     "start_time": "2022-04-23T22:08:05.645112",
     "status": "completed"
    },
    "tags": []
   },
   "outputs": [
    {
     "data": {
      "text/plain": [
       "0"
      ]
     },
     "execution_count": 8,
     "metadata": {},
     "output_type": "execute_result"
    }
   ],
   "source": [
    "# clean duplicates values\n",
    "\n",
    "# there is no duplicates\n",
    "df.duplicated().sum()"
   ]
  },
  {
   "cell_type": "code",
   "execution_count": 9,
   "id": "c6a58238",
   "metadata": {
    "execution": {
     "iopub.execute_input": "2022-04-23T22:08:05.791682Z",
     "iopub.status.busy": "2022-04-23T22:08:05.791118Z",
     "iopub.status.idle": "2022-04-23T22:08:05.799153Z",
     "shell.execute_reply": "2022-04-23T22:08:05.798350Z"
    },
    "papermill": {
     "duration": 0.054812,
     "end_time": "2022-04-23T22:08:05.801078",
     "exception": false,
     "start_time": "2022-04-23T22:08:05.746266",
     "status": "completed"
    },
    "tags": []
   },
   "outputs": [
    {
     "data": {
      "text/plain": [
       "dtype('int64')"
      ]
     },
     "execution_count": 9,
     "metadata": {},
     "output_type": "execute_result"
    }
   ],
   "source": [
    "# convert Student column type to integers\n",
    "df = df.astype({\"Student\": int}, errors='raise') \n",
    "# check type\n",
    "df.Student.dtype"
   ]
  },
  {
   "cell_type": "code",
   "execution_count": 10,
   "id": "c7457bca",
   "metadata": {
    "execution": {
     "iopub.execute_input": "2022-04-23T22:08:05.891106Z",
     "iopub.status.busy": "2022-04-23T22:08:05.890558Z",
     "iopub.status.idle": "2022-04-23T22:08:05.903888Z",
     "shell.execute_reply": "2022-04-23T22:08:05.903254Z"
    },
    "papermill": {
     "duration": 0.060505,
     "end_time": "2022-04-23T22:08:05.905650",
     "exception": false,
     "start_time": "2022-04-23T22:08:05.845145",
     "status": "completed"
    },
    "tags": []
   },
   "outputs": [
    {
     "data": {
      "text/html": [
       "<div>\n",
       "<style scoped>\n",
       "    .dataframe tbody tr th:only-of-type {\n",
       "        vertical-align: middle;\n",
       "    }\n",
       "\n",
       "    .dataframe tbody tr th {\n",
       "        vertical-align: top;\n",
       "    }\n",
       "\n",
       "    .dataframe thead th {\n",
       "        text-align: right;\n",
       "    }\n",
       "</style>\n",
       "<table border=\"1\" class=\"dataframe\">\n",
       "  <thead>\n",
       "    <tr style=\"text-align: right;\">\n",
       "      <th></th>\n",
       "      <th>Student</th>\n",
       "      <th>Teacher</th>\n",
       "      <th>Gender</th>\n",
       "      <th>Ethnic</th>\n",
       "      <th>Freeredu</th>\n",
       "      <th>Score</th>\n",
       "      <th>wesson</th>\n",
       "    </tr>\n",
       "  </thead>\n",
       "  <tbody>\n",
       "    <tr>\n",
       "      <th>0</th>\n",
       "      <td>1</td>\n",
       "      <td>Ruger</td>\n",
       "      <td>Female</td>\n",
       "      <td>Asian</td>\n",
       "      <td>Free lunch</td>\n",
       "      <td>76.0</td>\n",
       "      <td>Ruger_Smith</td>\n",
       "    </tr>\n",
       "    <tr>\n",
       "      <th>1</th>\n",
       "      <td>2</td>\n",
       "      <td>Ruger</td>\n",
       "      <td>Female</td>\n",
       "      <td>Hispanic</td>\n",
       "      <td>Paid lunch</td>\n",
       "      <td>56.0</td>\n",
       "      <td>Ruger_Smith</td>\n",
       "    </tr>\n",
       "    <tr>\n",
       "      <th>2</th>\n",
       "      <td>3</td>\n",
       "      <td>Ruger</td>\n",
       "      <td>Female</td>\n",
       "      <td>African-American</td>\n",
       "      <td>Free lunch</td>\n",
       "      <td>34.0</td>\n",
       "      <td>Ruger_Smith</td>\n",
       "    </tr>\n",
       "    <tr>\n",
       "      <th>3</th>\n",
       "      <td>4</td>\n",
       "      <td>Ruger</td>\n",
       "      <td>Female</td>\n",
       "      <td>Asian</td>\n",
       "      <td>Paid lunch</td>\n",
       "      <td>59.0</td>\n",
       "      <td>Ruger_Smith</td>\n",
       "    </tr>\n",
       "    <tr>\n",
       "      <th>4</th>\n",
       "      <td>5</td>\n",
       "      <td>Ruger</td>\n",
       "      <td>Male</td>\n",
       "      <td>Hispanic</td>\n",
       "      <td>Free lunch</td>\n",
       "      <td>73.0</td>\n",
       "      <td>Ruger_Smith</td>\n",
       "    </tr>\n",
       "  </tbody>\n",
       "</table>\n",
       "</div>"
      ],
      "text/plain": [
       "   Student Teacher  Gender            Ethnic    Freeredu  Score       wesson\n",
       "0        1   Ruger  Female             Asian  Free lunch   76.0  Ruger_Smith\n",
       "1        2   Ruger  Female          Hispanic  Paid lunch   56.0  Ruger_Smith\n",
       "2        3   Ruger  Female  African-American  Free lunch   34.0  Ruger_Smith\n",
       "3        4   Ruger  Female             Asian  Paid lunch   59.0  Ruger_Smith\n",
       "4        5   Ruger    Male          Hispanic  Free lunch   73.0  Ruger_Smith"
      ]
     },
     "execution_count": 10,
     "metadata": {},
     "output_type": "execute_result"
    }
   ],
   "source": [
    "# confirm changes\n",
    "df.head()"
   ]
  },
  {
   "cell_type": "markdown",
   "id": "fb816961",
   "metadata": {
    "papermill": {
     "duration": 0.044187,
     "end_time": "2022-04-23T22:08:05.994103",
     "exception": false,
     "start_time": "2022-04-23T22:08:05.949916",
     "status": "completed"
    },
    "tags": []
   },
   "source": [
    "# **Exploratory Data Analysis**"
   ]
  },
  {
   "cell_type": "markdown",
   "id": "efefe773",
   "metadata": {
    "papermill": {
     "duration": 0.043913,
     "end_time": "2022-04-23T22:08:06.082928",
     "exception": false,
     "start_time": "2022-04-23T22:08:06.039015",
     "status": "completed"
    },
    "tags": []
   },
   "source": [
    "### Q1: What is the number of male and female students? "
   ]
  },
  {
   "cell_type": "code",
   "execution_count": 11,
   "id": "5e5511f7",
   "metadata": {
    "execution": {
     "iopub.execute_input": "2022-04-23T22:08:06.175244Z",
     "iopub.status.busy": "2022-04-23T22:08:06.174731Z",
     "iopub.status.idle": "2022-04-23T22:08:06.181857Z",
     "shell.execute_reply": "2022-04-23T22:08:06.181178Z"
    },
    "papermill": {
     "duration": 0.056365,
     "end_time": "2022-04-23T22:08:06.183670",
     "exception": false,
     "start_time": "2022-04-23T22:08:06.127305",
     "status": "completed"
    },
    "tags": []
   },
   "outputs": [
    {
     "data": {
      "text/plain": [
       "Male      120\n",
       "Female     96\n",
       "Name: Gender, dtype: int64"
      ]
     },
     "execution_count": 11,
     "metadata": {},
     "output_type": "execute_result"
    }
   ],
   "source": [
    "male_female_number = df.Gender.value_counts()\n",
    "male_female_number"
   ]
  },
  {
   "cell_type": "code",
   "execution_count": 12,
   "id": "f22980df",
   "metadata": {
    "execution": {
     "iopub.execute_input": "2022-04-23T22:08:06.279668Z",
     "iopub.status.busy": "2022-04-23T22:08:06.279057Z",
     "iopub.status.idle": "2022-04-23T22:08:06.509478Z",
     "shell.execute_reply": "2022-04-23T22:08:06.508706Z"
    },
    "papermill": {
     "duration": 0.283043,
     "end_time": "2022-04-23T22:08:06.514005",
     "exception": false,
     "start_time": "2022-04-23T22:08:06.230962",
     "status": "completed"
    },
    "tags": []
   },
   "outputs": [
    {
     "data": {
      "text/plain": [
       "<AxesSubplot:title={'center':'Number of male and female'}>"
      ]
     },
     "execution_count": 12,
     "metadata": {},
     "output_type": "execute_result"
    },
    {
     "data": {
      "image/png": "[encoded data removed]",
      "text/plain": [
       "<Figure size 432x288 with 1 Axes>"
      ]
     },
     "metadata": {
      "needs_background": "light"
     },
     "output_type": "display_data"
    }
   ],
   "source": [
    "male_female_number.plot(kind='bar',title = \"Number of male and female\")"
   ]
  },
  {
   "cell_type": "markdown",
   "id": "d633a974",
   "metadata": {
    "papermill": {
     "duration": 0.045786,
     "end_time": "2022-04-23T22:08:06.611629",
     "exception": false,
     "start_time": "2022-04-23T22:08:06.565843",
     "status": "completed"
    },
    "tags": []
   },
   "source": [
    "### Q2: How many students of each ethnic are in the dataset"
   ]
  },
  {
   "cell_type": "code",
   "execution_count": 13,
   "id": "1ef3d261",
   "metadata": {
    "execution": {
     "iopub.execute_input": "2022-04-23T22:08:06.705520Z",
     "iopub.status.busy": "2022-04-23T22:08:06.704849Z",
     "iopub.status.idle": "2022-04-23T22:08:06.713371Z",
     "shell.execute_reply": "2022-04-23T22:08:06.712678Z"
    },
    "papermill": {
     "duration": 0.057589,
     "end_time": "2022-04-23T22:08:06.715233",
     "exception": false,
     "start_time": "2022-04-23T22:08:06.657644",
     "status": "completed"
    },
    "tags": []
   },
   "outputs": [
    {
     "data": {
      "text/plain": [
       "['Asian', 'Hispanic', 'African-American', 'Caucasian']\n",
       "Categories (4, object): ['African-American', 'Asian', 'Caucasian', 'Hispanic']"
      ]
     },
     "execution_count": 13,
     "metadata": {},
     "output_type": "execute_result"
    }
   ],
   "source": [
    "# unique ethnic\n",
    "df.Ethnic.unique()"
   ]
  },
  {
   "cell_type": "code",
   "execution_count": 14,
   "id": "1e2e926c",
   "metadata": {
    "execution": {
     "iopub.execute_input": "2022-04-23T22:08:06.811782Z",
     "iopub.status.busy": "2022-04-23T22:08:06.811488Z",
     "iopub.status.idle": "2022-04-23T22:08:06.975501Z",
     "shell.execute_reply": "2022-04-23T22:08:06.974338Z"
    },
    "papermill": {
     "duration": 0.216673,
     "end_time": "2022-04-23T22:08:06.978093",
     "exception": false,
     "start_time": "2022-04-23T22:08:06.761420",
     "status": "completed"
    },
    "tags": []
   },
   "outputs": [
    {
     "data": {
      "text/plain": [
       "<AxesSubplot:title={'center':'Number of students of each ethnic'}>"
      ]
     },
     "execution_count": 14,
     "metadata": {},
     "output_type": "execute_result"
    },
    {
     "data": {
      "image/png": "[encoded data removed]",
      "text/plain": [
       "<Figure size 432x288 with 1 Axes>"
      ]
     },
     "metadata": {
      "needs_background": "light"
     },
     "output_type": "display_data"
    }
   ],
   "source": [
    "df.Ethnic.value_counts().plot(kind='bar', title = 'Number of students of each ethnic')"
   ]
  },
  {
   "cell_type": "markdown",
   "id": "a65a9d71",
   "metadata": {
    "papermill": {
     "duration": 0.047432,
     "end_time": "2022-04-23T22:08:07.073700",
     "exception": false,
     "start_time": "2022-04-23T22:08:07.026268",
     "status": "completed"
    },
    "tags": []
   },
   "source": [
    "### Q3: What is the average score for students in general?"
   ]
  },
  {
   "cell_type": "code",
   "execution_count": 15,
   "id": "a71c32ec",
   "metadata": {
    "execution": {
     "iopub.execute_input": "2022-04-23T22:08:07.173411Z",
     "iopub.status.busy": "2022-04-23T22:08:07.173042Z",
     "iopub.status.idle": "2022-04-23T22:08:07.180189Z",
     "shell.execute_reply": "2022-04-23T22:08:07.179428Z"
    },
    "papermill": {
     "duration": 0.060519,
     "end_time": "2022-04-23T22:08:07.182071",
     "exception": false,
     "start_time": "2022-04-23T22:08:07.121552",
     "status": "completed"
    },
    "tags": []
   },
   "outputs": [
    {
     "data": {
      "text/plain": [
       "65.27314814814815"
      ]
     },
     "execution_count": 15,
     "metadata": {},
     "output_type": "execute_result"
    }
   ],
   "source": [
    "df.Score.mean()"
   ]
  },
  {
   "cell_type": "markdown",
   "id": "770eaeb3",
   "metadata": {
    "papermill": {
     "duration": 0.047747,
     "end_time": "2022-04-23T22:08:07.278048",
     "exception": false,
     "start_time": "2022-04-23T22:08:07.230301",
     "status": "completed"
    },
    "tags": []
   },
   "source": [
    "### Q4: Does any gender have a higher score than the other?"
   ]
  },
  {
   "cell_type": "code",
   "execution_count": 16,
   "id": "6ead1851",
   "metadata": {
    "execution": {
     "iopub.execute_input": "2022-04-23T22:08:07.376952Z",
     "iopub.status.busy": "2022-04-23T22:08:07.376544Z",
     "iopub.status.idle": "2022-04-23T22:08:07.557677Z",
     "shell.execute_reply": "2022-04-23T22:08:07.556668Z"
    },
    "papermill": {
     "duration": 0.233781,
     "end_time": "2022-04-23T22:08:07.560247",
     "exception": false,
     "start_time": "2022-04-23T22:08:07.326466",
     "status": "completed"
    },
    "tags": []
   },
   "outputs": [
    {
     "data": {
      "text/plain": [
       "<AxesSubplot:title={'center':'Average score by gender'}, xlabel='Gender'>"
      ]
     },
     "execution_count": 16,
     "metadata": {},
     "output_type": "execute_result"
    },
    {
     "data": {
      "image/png": "[encoded data removed]",
      "text/plain": [
       "<Figure size 432x288 with 1 Axes>"
      ]
     },
     "metadata": {
      "needs_background": "light"
     },
     "output_type": "display_data"
    }
   ],
   "source": [
    "df.groupby('Gender')['Student'].mean().plot(kind='bar',title = 'Average score by gender')"
   ]
  },
  {
   "cell_type": "markdown",
   "id": "d355b053",
   "metadata": {
    "papermill": {
     "duration": 0.049774,
     "end_time": "2022-04-23T22:08:07.660375",
     "exception": false,
     "start_time": "2022-04-23T22:08:07.610601",
     "status": "completed"
    },
    "tags": []
   },
   "source": [
    "### Q5: Does one ethnic have more score than the other?"
   ]
  },
  {
   "cell_type": "code",
   "execution_count": 17,
   "id": "f61ff0c4",
   "metadata": {
    "execution": {
     "iopub.execute_input": "2022-04-23T22:08:07.765359Z",
     "iopub.status.busy": "2022-04-23T22:08:07.764797Z",
     "iopub.status.idle": "2022-04-23T22:08:07.963229Z",
     "shell.execute_reply": "2022-04-23T22:08:07.961974Z"
    },
    "papermill": {
     "duration": 0.252679,
     "end_time": "2022-04-23T22:08:07.965813",
     "exception": false,
     "start_time": "2022-04-23T22:08:07.713134",
     "status": "completed"
    },
    "tags": []
   },
   "outputs": [
    {
     "data": {
      "text/plain": [
       "<AxesSubplot:title={'center':'Average score by ethnic'}, xlabel='Ethnic'>"
      ]
     },
     "execution_count": 17,
     "metadata": {},
     "output_type": "execute_result"
    },
    {
     "data": {
      "image/png": "[encoded data removed]",
      "text/plain": [
       "<Figure size 432x288 with 1 Axes>"
      ]
     },
     "metadata": {
      "needs_background": "light"
     },
     "output_type": "display_data"
    }
   ],
   "source": [
    "df.groupby('Ethnic')['Score'].mean().plot(kind = 'bar', title = 'Average score by ethnic')"
   ]
  },
  {
   "cell_type": "code",
   "execution_count": 18,
   "id": "1808d6b0",
   "metadata": {
    "execution": {
     "iopub.execute_input": "2022-04-23T22:08:08.071313Z",
     "iopub.status.busy": "2022-04-23T22:08:08.070805Z",
     "iopub.status.idle": "2022-04-23T22:08:08.323290Z",
     "shell.execute_reply": "2022-04-23T22:08:08.322456Z"
    },
    "papermill": {
     "duration": 0.307565,
     "end_time": "2022-04-23T22:08:08.325479",
     "exception": false,
     "start_time": "2022-04-23T22:08:08.017914",
     "status": "completed"
    },
    "tags": []
   },
   "outputs": [
    {
     "data": {
      "text/plain": [
       "Text(0.5, 1.0, 'Average score for each ethnic by gender')"
      ]
     },
     "execution_count": 18,
     "metadata": {},
     "output_type": "execute_result"
    },
    {
     "data": {
      "image/png": "[encoded data removed]",
      "text/plain": [
       "<Figure size 432x288 with 1 Axes>"
      ]
     },
     "metadata": {
      "needs_background": "light"
     },
     "output_type": "display_data"
    }
   ],
   "source": [
    "sns.barplot(data = df, x = 'Ethnic', y = 'Score', hue = 'Gender', ci = None)\n",
    "plt.title('Average score for each ethnic by gender')"
   ]
  },
  {
   "cell_type": "markdown",
   "id": "0a6a16ce",
   "metadata": {
    "papermill": {
     "duration": 0.052172,
     "end_time": "2022-04-23T22:08:08.430004",
     "exception": false,
     "start_time": "2022-04-23T22:08:08.377832",
     "status": "completed"
    },
    "tags": []
   },
   "source": [
    "### Q6: In order to answer the questions that we will ask in the next lines, it will be useful to add a new column with the method of teaching based on the description provided about the data."
   ]
  },
  {
   "cell_type": "code",
   "execution_count": 19,
   "id": "0afde2fd",
   "metadata": {
    "execution": {
     "iopub.execute_input": "2022-04-23T22:08:08.536054Z",
     "iopub.status.busy": "2022-04-23T22:08:08.535751Z",
     "iopub.status.idle": "2022-04-23T22:08:08.542517Z",
     "shell.execute_reply": "2022-04-23T22:08:08.541908Z"
    },
    "papermill": {
     "duration": 0.062636,
     "end_time": "2022-04-23T22:08:08.544335",
     "exception": false,
     "start_time": "2022-04-23T22:08:08.481699",
     "status": "completed"
    },
    "tags": []
   },
   "outputs": [
    {
     "data": {
      "text/plain": [
       "['Ruger_Smith', 'Wesson']\n",
       "Categories (2, object): ['Ruger_Smith', 'Wesson']"
      ]
     },
     "execution_count": 19,
     "metadata": {},
     "output_type": "execute_result"
    }
   ],
   "source": [
    "df.wesson.unique()"
   ]
  },
  {
   "cell_type": "code",
   "execution_count": 20,
   "id": "d085203d",
   "metadata": {
    "execution": {
     "iopub.execute_input": "2022-04-23T22:08:08.653060Z",
     "iopub.status.busy": "2022-04-23T22:08:08.652274Z",
     "iopub.status.idle": "2022-04-23T22:08:08.667900Z",
     "shell.execute_reply": "2022-04-23T22:08:08.667295Z"
    },
    "papermill": {
     "duration": 0.071172,
     "end_time": "2022-04-23T22:08:08.669922",
     "exception": false,
     "start_time": "2022-04-23T22:08:08.598750",
     "status": "completed"
    },
    "tags": []
   },
   "outputs": [
    {
     "data": {
      "text/html": [
       "<div>\n",
       "<style scoped>\n",
       "    .dataframe tbody tr th:only-of-type {\n",
       "        vertical-align: middle;\n",
       "    }\n",
       "\n",
       "    .dataframe tbody tr th {\n",
       "        vertical-align: top;\n",
       "    }\n",
       "\n",
       "    .dataframe thead th {\n",
       "        text-align: right;\n",
       "    }\n",
       "</style>\n",
       "<table border=\"1\" class=\"dataframe\">\n",
       "  <thead>\n",
       "    <tr style=\"text-align: right;\">\n",
       "      <th></th>\n",
       "      <th>Student</th>\n",
       "      <th>Teacher</th>\n",
       "      <th>Gender</th>\n",
       "      <th>Ethnic</th>\n",
       "      <th>Freeredu</th>\n",
       "      <th>Score</th>\n",
       "      <th>wesson</th>\n",
       "      <th>Teaching Method</th>\n",
       "    </tr>\n",
       "  </thead>\n",
       "  <tbody>\n",
       "    <tr>\n",
       "      <th>0</th>\n",
       "      <td>1</td>\n",
       "      <td>Ruger</td>\n",
       "      <td>Female</td>\n",
       "      <td>Asian</td>\n",
       "      <td>Free lunch</td>\n",
       "      <td>76.0</td>\n",
       "      <td>Ruger_Smith</td>\n",
       "      <td>standards_based</td>\n",
       "    </tr>\n",
       "    <tr>\n",
       "      <th>1</th>\n",
       "      <td>2</td>\n",
       "      <td>Ruger</td>\n",
       "      <td>Female</td>\n",
       "      <td>Hispanic</td>\n",
       "      <td>Paid lunch</td>\n",
       "      <td>56.0</td>\n",
       "      <td>Ruger_Smith</td>\n",
       "      <td>standards_based</td>\n",
       "    </tr>\n",
       "    <tr>\n",
       "      <th>2</th>\n",
       "      <td>3</td>\n",
       "      <td>Ruger</td>\n",
       "      <td>Female</td>\n",
       "      <td>African-American</td>\n",
       "      <td>Free lunch</td>\n",
       "      <td>34.0</td>\n",
       "      <td>Ruger_Smith</td>\n",
       "      <td>standards_based</td>\n",
       "    </tr>\n",
       "    <tr>\n",
       "      <th>3</th>\n",
       "      <td>4</td>\n",
       "      <td>Ruger</td>\n",
       "      <td>Female</td>\n",
       "      <td>Asian</td>\n",
       "      <td>Paid lunch</td>\n",
       "      <td>59.0</td>\n",
       "      <td>Ruger_Smith</td>\n",
       "      <td>standards_based</td>\n",
       "    </tr>\n",
       "    <tr>\n",
       "      <th>4</th>\n",
       "      <td>5</td>\n",
       "      <td>Ruger</td>\n",
       "      <td>Male</td>\n",
       "      <td>Hispanic</td>\n",
       "      <td>Free lunch</td>\n",
       "      <td>73.0</td>\n",
       "      <td>Ruger_Smith</td>\n",
       "      <td>standards_based</td>\n",
       "    </tr>\n",
       "  </tbody>\n",
       "</table>\n",
       "</div>"
      ],
      "text/plain": [
       "   Student Teacher  Gender            Ethnic    Freeredu  Score       wesson  \\\n",
       "0        1   Ruger  Female             Asian  Free lunch   76.0  Ruger_Smith   \n",
       "1        2   Ruger  Female          Hispanic  Paid lunch   56.0  Ruger_Smith   \n",
       "2        3   Ruger  Female  African-American  Free lunch   34.0  Ruger_Smith   \n",
       "3        4   Ruger  Female             Asian  Paid lunch   59.0  Ruger_Smith   \n",
       "4        5   Ruger    Male          Hispanic  Free lunch   73.0  Ruger_Smith   \n",
       "\n",
       "   Teaching Method  \n",
       "0  standards_based  \n",
       "1  standards_based  \n",
       "2  standards_based  \n",
       "3  standards_based  \n",
       "4  standards_based  "
      ]
     },
     "execution_count": 20,
     "metadata": {},
     "output_type": "execute_result"
    }
   ],
   "source": [
    "# Ms.Ruger and Ms.Smith >>  standards-based\n",
    "#  Ms.Wesson >> traditional\n",
    "df['Teaching Method'] = np.where(df['wesson'] == 'Ruger_Smith', 'standards_based', 'traditional')\n",
    "df.head()"
   ]
  },
  {
   "cell_type": "markdown",
   "id": "7cc83b56",
   "metadata": {
    "papermill": {
     "duration": 0.052365,
     "end_time": "2022-04-23T22:08:08.776446",
     "exception": false,
     "start_time": "2022-04-23T22:08:08.724081",
     "status": "completed"
    },
    "tags": []
   },
   "source": [
    "### Q6: What is the best way to teach students?"
   ]
  },
  {
   "cell_type": "code",
   "execution_count": 21,
   "id": "3bc892eb",
   "metadata": {
    "execution": {
     "iopub.execute_input": "2022-04-23T22:08:08.883688Z",
     "iopub.status.busy": "2022-04-23T22:08:08.882812Z",
     "iopub.status.idle": "2022-04-23T22:08:08.890786Z",
     "shell.execute_reply": "2022-04-23T22:08:08.890219Z"
    },
    "papermill": {
     "duration": 0.063492,
     "end_time": "2022-04-23T22:08:08.892647",
     "exception": false,
     "start_time": "2022-04-23T22:08:08.829155",
     "status": "completed"
    },
    "tags": []
   },
   "outputs": [
    {
     "data": {
      "text/plain": [
       "Teaching Method\n",
       "standards_based    62.335714\n",
       "traditional        70.684211\n",
       "Name: Score, dtype: float64"
      ]
     },
     "execution_count": 21,
     "metadata": {},
     "output_type": "execute_result"
    }
   ],
   "source": [
    "teaching_method_group = df.groupby('Teaching Method')['Score'].mean()\n",
    "teaching_method_group"
   ]
  },
  {
   "cell_type": "code",
   "execution_count": 22,
   "id": "eae7f62d",
   "metadata": {
    "execution": {
     "iopub.execute_input": "2022-04-23T22:08:09.001976Z",
     "iopub.status.busy": "2022-04-23T22:08:09.001379Z",
     "iopub.status.idle": "2022-04-23T22:08:09.193390Z",
     "shell.execute_reply": "2022-04-23T22:08:09.192722Z"
    },
    "papermill": {
     "duration": 0.248234,
     "end_time": "2022-04-23T22:08:09.195504",
     "exception": false,
     "start_time": "2022-04-23T22:08:08.947270",
     "status": "completed"
    },
    "tags": []
   },
   "outputs": [
    {
     "data": {
      "text/plain": [
       "<AxesSubplot:title={'center':'Average score according to the method of teaching'}, xlabel='Teaching Method'>"
      ]
     },
     "execution_count": 22,
     "metadata": {},
     "output_type": "execute_result"
    },
    {
     "data": {
      "image/png": "[encoded data removed]",
      "text/plain": [
       "<Figure size 432x288 with 1 Axes>"
      ]
     },
     "metadata": {
      "needs_background": "light"
     },
     "output_type": "display_data"
    }
   ],
   "source": [
    "teaching_method_group.plot(kind = 'bar', title = 'Average score according to the method of teaching')"
   ]
  },
  {
   "cell_type": "markdown",
   "id": "4d320095",
   "metadata": {
    "papermill": {
     "duration": 0.053969,
     "end_time": "2022-04-23T22:08:09.304656",
     "exception": false,
     "start_time": "2022-04-23T22:08:09.250687",
     "status": "completed"
    },
    "tags": []
   },
   "source": [
    "### Q7: Is there a method of teaching that suits a specific ethnic or gender for students? "
   ]
  },
  {
   "cell_type": "code",
   "execution_count": 23,
   "id": "03bafc94",
   "metadata": {
    "execution": {
     "iopub.execute_input": "2022-04-23T22:08:09.415376Z",
     "iopub.status.busy": "2022-04-23T22:08:09.414844Z",
     "iopub.status.idle": "2022-04-23T22:08:09.632399Z",
     "shell.execute_reply": "2022-04-23T22:08:09.631709Z"
    },
    "papermill": {
     "duration": 0.27507,
     "end_time": "2022-04-23T22:08:09.634432",
     "exception": false,
     "start_time": "2022-04-23T22:08:09.359362",
     "status": "completed"
    },
    "tags": []
   },
   "outputs": [
    {
     "data": {
      "text/plain": [
       "Text(0.5, 1.0, 'Average student scores for each ethnic by method of teaching')"
      ]
     },
     "execution_count": 23,
     "metadata": {},
     "output_type": "execute_result"
    },
    {
     "data": {
      "image/png": "[encoded data removed]",
      "text/plain": [
       "<Figure size 432x288 with 1 Axes>"
      ]
     },
     "metadata": {
      "needs_background": "light"
     },
     "output_type": "display_data"
    }
   ],
   "source": [
    "sns.barplot(data = df, x = 'Ethnic', y = 'Score', hue = 'Teaching Method', ci = None)\n",
    "plt.title('Average student scores for each ethnic by method of teaching')"
   ]
  },
  {
   "cell_type": "code",
   "execution_count": 24,
   "id": "9d8da0f1",
   "metadata": {
    "execution": {
     "iopub.execute_input": "2022-04-23T22:08:09.749314Z",
     "iopub.status.busy": "2022-04-23T22:08:09.748848Z",
     "iopub.status.idle": "2022-04-23T22:08:09.925570Z",
     "shell.execute_reply": "2022-04-23T22:08:09.924934Z"
    },
    "papermill": {
     "duration": 0.236385,
     "end_time": "2022-04-23T22:08:09.927486",
     "exception": false,
     "start_time": "2022-04-23T22:08:09.691101",
     "status": "completed"
    },
    "tags": []
   },
   "outputs": [
    {
     "data": {
      "text/plain": [
       "Text(0.5, 1.0, 'Average student scores for each gender by method of teaching')"
      ]
     },
     "execution_count": 24,
     "metadata": {},
     "output_type": "execute_result"
    },
    {
     "data": {
      "image/png": "[encoded data removed]",
      "text/plain": [
       "<Figure size 432x288 with 1 Axes>"
      ]
     },
     "metadata": {
      "needs_background": "light"
     },
     "output_type": "display_data"
    }
   ],
   "source": [
    "sns.barplot(data = df, x = 'Gender', y = 'Score', hue = 'Teaching Method', ci = None)\n",
    "plt.title('Average student scores for each gender by method of teaching')"
   ]
  },
  {
   "cell_type": "markdown",
   "id": "a0a237d8",
   "metadata": {
    "papermill": {
     "duration": 0.057179,
     "end_time": "2022-04-23T22:08:10.042037",
     "exception": false,
     "start_time": "2022-04-23T22:08:09.984858",
     "status": "completed"
    },
    "tags": []
   },
   "source": [
    "### Q8: Is there a favorite teacher of a particular ethnic?"
   ]
  },
  {
   "cell_type": "code",
   "execution_count": 25,
   "id": "dc676474",
   "metadata": {
    "execution": {
     "iopub.execute_input": "2022-04-23T22:08:10.157890Z",
     "iopub.status.busy": "2022-04-23T22:08:10.157499Z",
     "iopub.status.idle": "2022-04-23T22:08:10.376075Z",
     "shell.execute_reply": "2022-04-23T22:08:10.375456Z"
    },
    "papermill": {
     "duration": 0.278874,
     "end_time": "2022-04-23T22:08:10.378022",
     "exception": false,
     "start_time": "2022-04-23T22:08:10.099148",
     "status": "completed"
    },
    "tags": []
   },
   "outputs": [
    {
     "data": {
      "text/plain": [
       "Text(0.5, 1.0, 'Average student scores for each ethnic by Teacher')"
      ]
     },
     "execution_count": 25,
     "metadata": {},
     "output_type": "execute_result"
    },
    {
     "data": {
      "image/png": "[encoded data removed]",
      "text/plain": [
       "<Figure size 432x288 with 1 Axes>"
      ]
     },
     "metadata": {
      "needs_background": "light"
     },
     "output_type": "display_data"
    }
   ],
   "source": [
    "# Ms.Ruger >> African-American\n",
    "# Ms.Smith >> Caucasian teach Spanish.\n",
    "# Ms.Wesson >>  Caucasian.\n",
    "sns.barplot(data = df, x = 'Ethnic' , y = 'Score', hue = 'Teacher', ci = None)\n",
    "plt.title('Average student scores for each ethnic by Teacher')"
   ]
  },
  {
   "cell_type": "markdown",
   "id": "3e906d32",
   "metadata": {
    "papermill": {
     "duration": 0.058049,
     "end_time": "2022-04-23T22:08:10.494372",
     "exception": false,
     "start_time": "2022-04-23T22:08:10.436323",
     "status": "completed"
    },
    "tags": []
   },
   "source": [
    "### Q9: Do students who get free lunch get higher grades than others?"
   ]
  },
  {
   "cell_type": "code",
   "execution_count": 26,
   "id": "34ac2c19",
   "metadata": {
    "execution": {
     "iopub.execute_input": "2022-04-23T22:08:10.632721Z",
     "iopub.status.busy": "2022-04-23T22:08:10.632253Z",
     "iopub.status.idle": "2022-04-23T22:08:10.810045Z",
     "shell.execute_reply": "2022-04-23T22:08:10.809078Z"
    },
    "papermill": {
     "duration": 0.247825,
     "end_time": "2022-04-23T22:08:10.812139",
     "exception": false,
     "start_time": "2022-04-23T22:08:10.564314",
     "status": "completed"
    },
    "tags": []
   },
   "outputs": [
    {
     "data": {
      "text/plain": [
       "<AxesSubplot:title={'center':'Average student score by lunch price'}, xlabel='Freeredu'>"
      ]
     },
     "execution_count": 26,
     "metadata": {},
     "output_type": "execute_result"
    },
    {
     "data": {
      "image/png": "[encoded data removed]",
      "text/plain": [
       "<Figure size 432x288 with 1 Axes>"
      ]
     },
     "metadata": {
      "needs_background": "light"
     },
     "output_type": "display_data"
    }
   ],
   "source": [
    "df.groupby('Freeredu')['Score'].mean().plot(kind = 'bar', title = 'Average student score by lunch price' )"
   ]
  },
  {
   "cell_type": "markdown",
   "id": "e79b8fde",
   "metadata": {
    "papermill": {
     "duration": 0.059994,
     "end_time": "2022-04-23T22:08:10.931802",
     "exception": false,
     "start_time": "2022-04-23T22:08:10.871808",
     "status": "completed"
    },
    "tags": []
   },
   "source": [
    "# **Conclusions**"
   ]
  },
  {
   "cell_type": "markdown",
   "id": "7f0d4a69",
   "metadata": {
    "papermill": {
     "duration": 0.061443,
     "end_time": "2022-04-23T22:08:11.054351",
     "exception": false,
     "start_time": "2022-04-23T22:08:10.992908",
     "status": "completed"
    },
    "tags": []
   },
   "source": [
    "1. The percentage of male students is slightly higher than females, as they constitute 55 percent of the student population.\n",
    "1. Hispanics make up the highest number of students while other ethnic groups have close numbers.\n",
    "1. Males and females score similarly on average.\n",
    "1. The lunch price does not affect the student's score.\n",
    "1. Females get higher average scores than males in the Caucasian ethnic.\n",
    "1. The traditional teaching method shows slightly better results than the other method for all students(taking into account gender and ethnicity).\n",
    "1. Ms.Smith gives slightly better results with Caucasian and Hispanic students.\n",
    "1. Ms.Ruger leads to the same results with African-Americans or with others.\n",
    "1. Ms.Wesson gives the best results with all students.\n",
    "\n",
    "In the end I recommend:\n",
    "1.  Continuing to experiment between the traditional method and the standards-based method because the results are close so far, even if the traditional method showed that it is a little better. Despite that, we cannot be certain that it is the best.\n",
    "1.  Ms.Wesson's theory that it is better to teach racially or socially compatible teachers with students is wrong and there must be other criteria for teacher preference, such as a background in mathematics."
   ]
  },
  {
   "cell_type": "markdown",
   "id": "293422f3",
   "metadata": {
    "papermill": {
     "duration": 0.060106,
     "end_time": "2022-04-23T22:08:11.174734",
     "exception": false,
     "start_time": "2022-04-23T22:08:11.114628",
     "status": "completed"
    },
    "tags": []
   },
   "source": [
    "# Limitations"
   ]
  },
  {
   "cell_type": "markdown",
   "id": "943123e0",
   "metadata": {
    "papermill": {
     "duration": 0.059993,
     "end_time": "2022-04-23T22:08:11.295425",
     "exception": false,
     "start_time": "2022-04-23T22:08:11.235432",
     "status": "completed"
    },
    "tags": []
   },
   "source": [
    "1. The number of data is so small that we cannot be certain that our findings are accurate or reliable.\n",
    "1. Other dimensions were not considered in the data, such as social environment, student intelligence, learning environment, or geographic area."
   ]
  }
 ],
 "metadata": {
  "kernelspec": {
   "display_name": "Python 3",
   "language": "python",
   "name": "python3"
  },
  "language_info": {
   "codemirror_mode": {
    "name": "ipython",
    "version": 3
   },
   "file_extension": ".py",
   "mimetype": "text/x-python",
   "name": "python",
   "nbconvert_exporter": "python",
   "pygments_lexer": "ipython3",
   "version": "3.7.12"
  },
  "papermill": {
   "default_parameters": {},
   "duration": 32.458085,
   "end_time": "2022-04-23T22:08:12.177626",
   "environment_variables": {},
   "exception": null,
   "input_path": "__notebook__.ipynb",
   "output_path": "__notebook__.ipynb",
   "parameters": {},
   "start_time": "2022-04-23T22:07:39.719541",
   "version": "2.3.4"
  }
 },
 "nbformat": 4,
 "nbformat_minor": 5
}
